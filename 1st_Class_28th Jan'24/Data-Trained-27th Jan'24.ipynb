{
 "cells": [
  {
   "cell_type": "code",
   "execution_count": 2,
   "id": "93b65dbe",
   "metadata": {},
   "outputs": [
    {
     "name": "stdout",
     "output_type": "stream",
     "text": [
      "Hello World!\n"
     ]
    }
   ],
   "source": [
    "print(\"Hello World!\")"
   ]
  },
  {
   "cell_type": "code",
   "execution_count": 3,
   "id": "0f046b9b",
   "metadata": {},
   "outputs": [
    {
     "name": "stdout",
     "output_type": "stream",
     "text": [
      "Hello, I am Shabab\n"
     ]
    }
   ],
   "source": [
    "print(\"Hello, I am Shabab\")"
   ]
  },
  {
   "cell_type": "code",
   "execution_count": 4,
   "id": "582a6fd8",
   "metadata": {},
   "outputs": [
    {
     "data": {
      "text/plain": [
       "65"
      ]
     },
     "execution_count": 4,
     "metadata": {},
     "output_type": "execute_result"
    }
   ],
   "source": [
    "20+45"
   ]
  },
  {
   "cell_type": "code",
   "execution_count": 5,
   "id": "29ef658b",
   "metadata": {},
   "outputs": [
    {
     "data": {
      "text/plain": [
       "-22"
      ]
     },
     "execution_count": 5,
     "metadata": {},
     "output_type": "execute_result"
    }
   ],
   "source": [
    "45-67"
   ]
  },
  {
   "cell_type": "code",
   "execution_count": 6,
   "id": "cbacb337",
   "metadata": {},
   "outputs": [
    {
     "data": {
      "text/plain": [
       "7540.325581395349"
      ]
     },
     "execution_count": 6,
     "metadata": {},
     "output_type": "execute_result"
    }
   ],
   "source": [
    "324234/43"
   ]
  },
  {
   "cell_type": "code",
   "execution_count": 7,
   "id": "aebf8bb0",
   "metadata": {},
   "outputs": [
    {
     "data": {
      "text/plain": [
       "154035"
      ]
     },
     "execution_count": 7,
     "metadata": {},
     "output_type": "execute_result"
    }
   ],
   "source": [
    "3423*45"
   ]
  },
  {
   "cell_type": "code",
   "execution_count": 8,
   "id": "9194c64e",
   "metadata": {},
   "outputs": [
    {
     "name": "stdout",
     "output_type": "stream",
     "text": [
      "Hello World!\n",
      "I am superHero\n"
     ]
    }
   ],
   "source": [
    "print(\"Hello World!\")\n",
    "print(\"I am superHero\")"
   ]
  },
  {
   "cell_type": "code",
   "execution_count": null,
   "id": "e9d76fd2",
   "metadata": {},
   "outputs": [],
   "source": [
    "to add the below the current cell - ESCC+B\n",
    "\n",
    "to add the cell above the current cell - ESC+A\n",
    "\n",
    "to ececute/run the cell ctrl+Enter\n",
    "to delete the cell ESC+D+D"
   ]
  },
  {
   "cell_type": "code",
   "execution_count": null,
   "id": "478d8df4",
   "metadata": {},
   "outputs": [],
   "source": []
  }
 ],
 "metadata": {
  "kernelspec": {
   "display_name": "Python 3 (ipykernel)",
   "language": "python",
   "name": "python3"
  },
  "language_info": {
   "codemirror_mode": {
    "name": "ipython",
    "version": 3
   },
   "file_extension": ".py",
   "mimetype": "text/x-python",
   "name": "python",
   "nbconvert_exporter": "python",
   "pygments_lexer": "ipython3",
   "version": "3.11.5"
  }
 },
 "nbformat": 4,
 "nbformat_minor": 5
}
